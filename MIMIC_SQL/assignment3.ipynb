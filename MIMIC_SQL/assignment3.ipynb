{
 "cells": [
  {
   "cell_type": "code",
   "execution_count": 17,
   "metadata": {},
   "outputs": [],
   "source": [
    "import psycopg as pg"
   ]
  },
  {
   "cell_type": "code",
   "execution_count": 18,
   "metadata": {},
   "outputs": [
    {
     "name": "stdout",
     "output_type": "stream",
     "text": [
      "Connected to the database successfully!\n"
     ]
    }
   ],
   "source": [
    "# Database connection details\n",
    "DB_NAME = \"mimic\"\n",
    "DB_USER = \"postgres\"\n",
    "DB_PASSWORD = \"secret\"\n",
    "DB_HOST = \"localhost\"  # Or your PostgreSQL server address\n",
    "DB_PORT = \"5432\"  # Default PostgreSQL port\n",
    "\n",
    "# Establish connection\n",
    "conn = psycopg.connect(\n",
    "    dbname=DB_NAME,\n",
    "    user=DB_USER,\n",
    "    password=DB_PASSWORD,\n",
    "    host=DB_HOST,\n",
    "    port=DB_PORT\n",
    ")\n",
    "\n",
    "print(\"Connected to the database successfully!\")\n"
   ]
  },
  {
   "cell_type": "code",
   "execution_count": 19,
   "metadata": {},
   "outputs": [
    {
     "name": "stdout",
     "output_type": "stream",
     "text": [
      "(21, 22, 165315, datetime.datetime(2196, 4, 9, 12, 26), datetime.datetime(2196, 4, 10, 15, 54), None, 'EMERGENCY', 'EMERGENCY ROOM ADMIT', 'DISC-TRAN CANCER/CHLDRN H', 'Private', None, 'UNOBTAINABLE', 'MARRIED', 'WHITE', datetime.datetime(2196, 4, 9, 10, 6), datetime.datetime(2196, 4, 9, 13, 24), 'BENZODIAZEPINE OVERDOSE', 0, 1)\n",
      "(22, 23, 152223, datetime.datetime(2153, 9, 3, 7, 15), datetime.datetime(2153, 9, 8, 19, 10), None, 'ELECTIVE', 'PHYS REFERRAL/NORMAL DELI', 'HOME HEALTH CARE', 'Medicare', None, 'CATHOLIC', 'MARRIED', 'WHITE', None, None, 'CORONARY ARTERY DISEASE\\\\CORONARY ARTERY BYPASS GRAFT/SDA', 0, 1)\n",
      "(23, 23, 124321, datetime.datetime(2157, 10, 18, 19, 34), datetime.datetime(2157, 10, 25, 14, 0), None, 'EMERGENCY', 'TRANSFER FROM HOSP/EXTRAM', 'HOME HEALTH CARE', 'Medicare', 'ENGL', 'CATHOLIC', 'MARRIED', 'WHITE', None, None, 'BRAIN MASS', 0, 1)\n",
      "(24, 24, 161859, datetime.datetime(2139, 6, 6, 16, 14), datetime.datetime(2139, 6, 9, 12, 48), None, 'EMERGENCY', 'TRANSFER FROM HOSP/EXTRAM', 'HOME', 'Private', None, 'PROTESTANT QUAKER', 'SINGLE', 'WHITE', None, None, 'INTERIOR MYOCARDIAL INFARCTION', 0, 1)\n",
      "(25, 25, 129635, datetime.datetime(2160, 11, 2, 2, 6), datetime.datetime(2160, 11, 5, 14, 55), None, 'EMERGENCY', 'EMERGENCY ROOM ADMIT', 'HOME', 'Private', None, 'UNOBTAINABLE', 'MARRIED', 'WHITE', datetime.datetime(2160, 11, 2, 1, 1), datetime.datetime(2160, 11, 2, 4, 27), 'ACUTE CORONARY SYNDROME', 0, 1)\n",
      "(26, 26, 197661, datetime.datetime(2126, 5, 6, 15, 16), datetime.datetime(2126, 5, 13, 15, 0), None, 'EMERGENCY', 'TRANSFER FROM HOSP/EXTRAM', 'HOME', 'Medicare', None, 'CATHOLIC', 'SINGLE', 'UNKNOWN/NOT SPECIFIED', None, None, 'V-TACH', 0, 1)\n",
      "(27, 27, 134931, datetime.datetime(2191, 11, 30, 22, 16), datetime.datetime(2191, 12, 3, 14, 45), None, 'NEWBORN', 'PHYS REFERRAL/NORMAL DELI', 'HOME', 'Private', None, 'CATHOLIC', None, 'WHITE', None, None, 'NEWBORN', 0, 1)\n",
      "(28, 28, 162569, datetime.datetime(2177, 9, 1, 7, 15), datetime.datetime(2177, 9, 6, 16, 0), None, 'ELECTIVE', 'PHYS REFERRAL/NORMAL DELI', 'HOME HEALTH CARE', 'Medicare', None, 'CATHOLIC', 'MARRIED', 'WHITE', None, None, 'CORONARY ARTERY DISEASE\\\\CORONARY ARTERY BYPASS GRAFT/SDA', 0, 1)\n",
      "(29, 30, 104557, datetime.datetime(2172, 10, 14, 14, 17), datetime.datetime(2172, 10, 19, 14, 37), None, 'URGENT', 'TRANSFER FROM HOSP/EXTRAM', 'HOME HEALTH CARE', 'Medicare', None, 'CATHOLIC', 'MARRIED', 'UNKNOWN/NOT SPECIFIED', None, None, 'UNSTABLE ANGINA\\\\CATH', 0, 1)\n",
      "(30, 31, 128652, datetime.datetime(2108, 8, 22, 23, 27), datetime.datetime(2108, 8, 30, 15, 0), datetime.datetime(2108, 8, 30, 15, 0), 'EMERGENCY', 'TRANSFER FROM HOSP/EXTRAM', 'DEAD/EXPIRED', 'Medicare', None, 'CATHOLIC', 'MARRIED', 'WHITE', None, None, 'STATUS EPILEPTICUS', 1, 1)\n"
     ]
    }
   ],
   "source": [
    "cur = conn.cursor()\n",
    "\n",
    "cur.execute(\"SELECT * FROM mimiciii.admissions LIMIT 10\")  # Execute a query\n",
    "rows = cur.fetchall()  # Fetch all rows\n",
    "\n",
    "for row in rows:\n",
    "    print(row)\n",
    "\n",
    "cur.close()"
   ]
  },
  {
   "cell_type": "code",
   "execution_count": 16,
   "metadata": {},
   "outputs": [],
   "source": [
    "conn.close()"
   ]
  },
  {
   "cell_type": "code",
   "execution_count": null,
   "metadata": {},
   "outputs": [],
   "source": []
  }
 ],
 "metadata": {
  "kernelspec": {
   "display_name": ".venv",
   "language": "python",
   "name": "python3"
  },
  "language_info": {
   "codemirror_mode": {
    "name": "ipython",
    "version": 3
   },
   "file_extension": ".py",
   "mimetype": "text/x-python",
   "name": "python",
   "nbconvert_exporter": "python",
   "pygments_lexer": "ipython3",
   "version": "3.11.9"
  }
 },
 "nbformat": 4,
 "nbformat_minor": 2
}
